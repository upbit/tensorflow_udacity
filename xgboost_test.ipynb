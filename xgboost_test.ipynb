{
 "cells": [
  {
   "cell_type": "code",
   "execution_count": 19,
   "metadata": {
    "collapsed": true
   },
   "outputs": [],
   "source": [
    "import numpy as np\n",
    "import pandas as pd\n",
    "\n",
    "np.random.seed()"
   ]
  },
  {
   "cell_type": "code",
   "execution_count": 63,
   "metadata": {
    "collapsed": false
   },
   "outputs": [
    {
     "name": "stdout",
     "output_type": "stream",
     "text": [
      "2    38\n",
      "0    24\n",
      "1    19\n",
      "3    11\n",
      "4     8\n",
      "Name: label, dtype: int64\n"
     ]
    }
   ],
   "source": [
    "# 生成随机的训练数据，并输出为libsvm文件\n",
    "from sklearn.datasets import dump_svmlight_file\n",
    "\n",
    "DATA_SIZE=100\n",
    "\n",
    "df = pd.DataFrame()\n",
    "df['qid'] = np.random.randint(DATA_SIZE/10, size=DATA_SIZE)\n",
    "df['t'] = np.random.rand(DATA_SIZE,) * 1.2\n",
    "df['q'] = 0.25 + np.random.rand(DATA_SIZE,) * 0.5   # 0.25-0.75\n",
    "df['f'] = 0.5 + np.random.rand(DATA_SIZE,) * 0.5    # 0.5-1.0\n",
    "df['v'] = 0.35 + np.random.rand(DATA_SIZE,) * 0.65  # 0.35-1.0\n",
    "df['n'] = 0.35 + np.random.rand(DATA_SIZE,) * 0.65  # 0.35-1.0\n",
    "# df['m'] = np.random.rand(DATA_SIZE,)\n",
    "\n",
    "conditions = [\n",
    "    ((df['t'] >= 1.0) & (df['n'] > 0.8)) | ((df['t']>=0.6) & (df['n'] > 0.8) & (df['q'] > 0.65)),\n",
    "    ((df['t'] >= 0.8) & (df['n'] > 0.7)) | ((df['t']>=0.6) & (df['n'] > 0.5) & (df['f'] > 0.9)),\n",
    "    (df['t'] >= 0.6) | ((df['t'] >= 0.4) & (df['n'] > 0.5) & (df['f'] > 0.5)),\n",
    "    (df['t'] >= 0.4) | ((df['t'] >= 0.2) & (df['n'] > 0.6)),\n",
    "    True,\n",
    "]\n",
    "labels = np.array([4, 3, 2, 1, 0])\n",
    "df['label'] = np.select(conditions, labels, default=0)\n",
    "df = df.sort_values(by=['qid'])\n",
    "\n",
    "X = df[np.setdiff1d(df.columns, ['qid','label'])]\n",
    "y = df.label\n",
    "\n",
    "comment = \"features: %s\" % ', '.join(X.keys())\n",
    "dump_svmlight_file(X, y, 'listwise_test.svml', query_id=df['qid'], comment=comment, zero_based=True, multilabel=False)\n",
    "\n",
    "print(df['label'].value_counts())"
   ]
  },
  {
   "cell_type": "code",
   "execution_count": null,
   "metadata": {
    "collapsed": true
   },
   "outputs": [],
   "source": []
  }
 ],
 "metadata": {
  "anaconda-cloud": {},
  "kernelspec": {
   "display_name": "Python [conda env:tensorflow]",
   "language": "python",
   "name": "conda-env-tensorflow-py"
  },
  "language_info": {
   "codemirror_mode": {
    "name": "ipython",
    "version": 2
   },
   "file_extension": ".py",
   "mimetype": "text/x-python",
   "name": "python",
   "nbconvert_exporter": "python",
   "pygments_lexer": "ipython2",
   "version": "2.7.13"
  }
 },
 "nbformat": 4,
 "nbformat_minor": 2
}
